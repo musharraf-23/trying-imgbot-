{
 "cells": [
  {
   "cell_type": "code",
   "execution_count": 1,
   "metadata": {},
   "outputs": [
    {
     "name": "stdout",
     "output_type": "stream",
     "text": [
      "_arithmatic operators\n",
      "Addition: 15\n",
      "Substraction: 5\n",
      "Multiplication: 50\n",
      "Division: 12.0\n",
      "Floor Division: 1\n",
      "Modulus: 2\n",
      "Exponential: 10000\n"
     ]
    }
   ],
   "source": [
    "print(\"_arithmatic operators\" )\n",
    "a=10 ; b=5\n",
    "print(\"Addition:\",a+b)\n",
    "print(\"Substraction:\",a-b)\n",
    "print(\"Multiplication:\",a*b)\n",
    "print(\"Division:\",12/1)\n",
    "print(\"Floor Division:\",12//10)\n",
    "print(\"Modulus:\",12%10)\n",
    "print(\"Exponential:\",100**2)"
   ]
  },
  {
   "cell_type": "code",
   "execution_count": 4,
   "metadata": {},
   "outputs": [
    {
     "name": "stdout",
     "output_type": "stream",
     "text": [
      "Relational operators\n",
      "True\n",
      "False\n",
      "False\n",
      "True\n",
      "True\n",
      "False\n",
      "over\n"
     ]
    }
   ],
   "source": [
    "print(\"Relational operators\" )\n",
    "a=10 ; b=5\n",
    "print(a>b)\n",
    "print(a<b)\n",
    "print(a==b)\n",
    "print(a!=b)\n",
    "print(a>=b)\n",
    "print(a<=b)\n",
    "print(\"over\")"
   ]
  },
  {
   "cell_type": "code",
   "execution_count": 5,
   "metadata": {},
   "outputs": [
    {
     "name": "stdout",
     "output_type": "stream",
     "text": [
      "Logical operators\n",
      "False\n",
      "True\n",
      "True\n"
     ]
    }
   ],
   "source": [
    "print(\"Logical operators\" )\n",
    "a=10 ; b=5\n",
    "print(a<b and b<a)\n",
    "print(a<b or b<a)\n",
    "print (not(a<b))"
   ]
  },
  {
   "cell_type": "code",
   "execution_count": 7,
   "metadata": {},
   "outputs": [
    {
     "name": "stdout",
     "output_type": "stream",
     "text": [
      "Identity operater\n",
      "False\n",
      "True\n",
      "False\n"
     ]
    }
   ],
   "source": [
    "print(\"Identity operater\" )\n",
    "a1=5; b1=5\n",
    "a2=\"hello\"\n",
    "b2=\"hello\"\n",
    "a3=[1,2,3] \n",
    "b3=[1,2,3]\n",
    "print(a1 is not b1)\n",
    "print(a2 is b2)\n",
    "print(a2 is b3)\n"
   ]
  },
  {
   "cell_type": "code",
   "execution_count": null,
   "metadata": {},
   "outputs": [],
   "source": []
  }
 ],
 "metadata": {
  "kernelspec": {
   "display_name": "Python 3",
   "language": "python",
   "name": "python3"
  },
  "language_info": {
   "codemirror_mode": {
    "name": "ipython",
    "version": 3
   },
   "file_extension": ".py",
   "mimetype": "text/x-python",
   "name": "python",
   "nbconvert_exporter": "python",
   "pygments_lexer": "ipython3",
   "version": "3.8.5"
  }
 },
 "nbformat": 4,
 "nbformat_minor": 4
}
